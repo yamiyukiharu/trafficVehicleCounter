{
 "metadata": {
  "language_info": {
   "codemirror_mode": {
    "name": "ipython",
    "version": 3
   },
   "file_extension": ".py",
   "mimetype": "text/x-python",
   "name": "python",
   "nbconvert_exporter": "python",
   "pygments_lexer": "ipython3",
   "version": "3.8.5"
  },
  "orig_nbformat": 2,
  "kernelspec": {
   "name": "python385jvsc74a57bd0d7d77f92adaaca1c34b1d7b4816a29e89061b03073376759637fc91c3bbb3709",
   "display_name": "Python 3.8.5 64-bit ('akb-vision': conda)"
  },
  "metadata": {
   "interpreter": {
    "hash": "d7d77f92adaaca1c34b1d7b4816a29e89061b03073376759637fc91c3bbb3709"
   }
  }
 },
 "nbformat": 4,
 "nbformat_minor": 2,
 "cells": [
  {
   "cell_type": "code",
   "execution_count": 1,
   "metadata": {},
   "outputs": [],
   "source": [
    "import h5py\n",
    "import numpy as np\n",
    "import math\n",
    "import cv2"
   ]
  },
  {
   "cell_type": "code",
   "execution_count": 2,
   "metadata": {},
   "outputs": [],
   "source": [
    "vid = cv2.VideoCapture('./data/video/VehicleTest.mp4')\n",
    "hf = h5py.File('./outputs/data.h5', 'r')\n",
    "h1 = hf.get('dataset_1')\n",
    "d1 = np.array(h1)"
   ]
  },
  {
   "cell_type": "code",
   "execution_count": 3,
   "metadata": {},
   "outputs": [
    {
     "output_type": "execute_result",
     "data": {
      "text/plain": [
       "(1322, 50, 6)"
      ]
     },
     "metadata": {},
     "execution_count": 3
    }
   ],
   "source": [
    "d1.shape"
   ]
  },
  {
   "cell_type": "code",
   "execution_count": 4,
   "metadata": {},
   "outputs": [
    {
     "output_type": "execute_result",
     "data": {
      "text/plain": [
       "9"
      ]
     },
     "metadata": {},
     "execution_count": 4
    }
   ],
   "source": [
    "cars = {}\n",
    "trucks = {}\n",
    "\n",
    "car_cnt = 0\n",
    "truck_cnt = 0\n",
    "\n",
    "for frame_num, frame in enumerate(d1):\n",
    "    for detection in frame:\n",
    "        if detection[0] == 0:\n",
    "            continue\n",
    "        class_id = detection[0]\n",
    "        uid = str(detection[1])\n",
    "\n",
    "        # xmin, ymin, xmax, ymax\n",
    "\n",
    "        x_min = detection[2]\n",
    "        y_min = detection[3]\n",
    "        x_max = detection[4]\n",
    "        y_max = detection[5]\n",
    "        width = x_max - x_min\n",
    "        height = y_max - y_min\n",
    "        cx = x_min + (width / 2)\n",
    "        cy = y_min + (height / 2)\n",
    "        centroid = [cx, cy]\n",
    "\n",
    "        if class_id == 1:\n",
    "\n",
    "            # detecting for the first time\n",
    "            if uid not in cars.keys():\n",
    "                cars[uid] = {\n",
    "                    'initial_centroid' : [cx, cy], \n",
    "                    'prev_centroid': [cx, cy],\n",
    "                    'prev_frame_num': frame_num,\n",
    "                    'dist': 0,\n",
    "                    'counted': False\n",
    "                    }\n",
    "                continue\n",
    "\n",
    "            # already counted this car, skip\n",
    "            elif cars[uid]['counted'] == True:\n",
    "                continue\n",
    "            \n",
    "            # reset distance travelled if previous detected frame is too far off\n",
    "            elif frame_num - cars[uid]['prev_frame_num'] > 10:\n",
    "                cars[uid]['prev_centroid'] = centroid\n",
    "\n",
    "            # compute distance traveled\n",
    "            prev_centroid = cars[uid]['prev_centroid']\n",
    "            cars[uid]['dist'] = cars[uid]['dist'] + math.dist(prev_centroid, centroid)\n",
    "            cars[uid]['prev_centroid'] = centroid\n",
    "            cars[uid]['prev_frame_num'] = frame_num\n",
    "\n",
    "            # count the object if distance traveled exceeds a threshold\n",
    "            if cars[uid]['dist'] > 500:\n",
    "                # computer direction vector\n",
    "                initial_centroid = cars[uid]['initial_centroid']\n",
    "                vect = [cx - initial_centroid[0], cy - initial_centroid[1]]\n",
    "\n",
    "                # only count cars travelling south\n",
    "                if (vect[0] < 0) and (vect[1] > 0):\n",
    "                    car_cnt = car_cnt + 1\n",
    "                    cars[uid]['counted'] = True\n",
    "\n",
    "                    # extract the boundingbox of the detected vehicle\n",
    "                    vid.set(cv2.CAP_PROP_POS_FRAMES, frame_num)\n",
    "                    _, img = vid.read()\n",
    "\n",
    "                    buff = np.zeros((height, width, 3), dtype=int)\n",
    "                    buff = img[y_min:y_max, x_min:x_max, :]\n",
    "\n",
    "                    # save detections\n",
    "                    file_path = os.path.join('./outputs/detections', uid + '.png')\n",
    "                    cv2.imwrite(file_path, buff)\n",
    "\n",
    "\n",
    "car_cnt\n",
    "        # elif class_id == 2:\n",
    "        #     if uid not in trucks.keys():\n",
    "        #         trucks[uid] = [cx, cy]\n"
   ]
  },
  {
   "cell_type": "code",
   "execution_count": null,
   "metadata": {},
   "outputs": [],
   "source": []
  }
 ]
}